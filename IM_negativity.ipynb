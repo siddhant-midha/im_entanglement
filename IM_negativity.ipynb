{
 "cells": [
  {
   "cell_type": "code",
   "execution_count": 81,
   "id": "9d16a655",
   "metadata": {},
   "outputs": [],
   "source": [
    "import sympy as sp\n",
    "from sympy.combinatorics import Permutation, PermutationGroup\n",
    "from sympy.combinatorics.permutations import Cycle\n",
    "import numpy as np\n",
    "from math import factorial\n",
    "from itertools import permutations\n",
    "from tqdm import tqdm\n",
    "from matplotlib import pyplot as plt\n",
    "from math import floor,ceil\n",
    "\n",
    "plt.rcParams.update({'font.size': 22})\n",
    "plt.rc('text', usetex=True)\n",
    "plt.rc('font', family='serif')"
   ]
  },
  {
   "cell_type": "markdown",
   "id": "76b84ffd",
   "metadata": {},
   "source": [
    "## General stuff\n",
    "Applicable to Weingarten techniques for computing moments such as \n",
    "$$\\mathbb{E}[(U\\otimes U^*)^{\\otimes k}] = \\sum_{\\pi\\sigma \\in S_k} \\text{Wg}_q(\\pi,\\sigma) |T_\\pi \\rangle \\langle T_\\sigma|,$$\n",
    "where $S_k$ is the $k$-element permutation group and $T_\\alpha$ are the corresponding unitary permuting operators. Lastly, $\\text{Wg}_q(\\pi,\\sigma)$ is the Weingarten matrix, which we construct below. Note that the vectorized objects $|T_\\alpha\\rangle$ are not orthogonal, so whenever we want to stick two of them together, we must appropriately account for the inner product matrix. This is the ``perm_matrix`` function below, which is the Gram matrix constructing \n",
    "$$G_q(\\pi,\\sigma) = q^{\\text{cycles}(\\pi^{-1}\\sigma)}$$ \n",
    "and we have \n",
    "$$\\text{Wg}_q(\\pi,\\sigma) = [G_q^{-1}](\\pi,\\sigma) $$\n"
   ]
  },
  {
   "cell_type": "code",
   "execution_count": 82,
   "id": "10d1bd25",
   "metadata": {},
   "outputs": [],
   "source": [
    "             ## acc to eq36 in https://quantum-journal.org/papers/q-2024-05-08-1340/pdf/ only the number of cycles is needed?\n",
    "# Define the permutation norm\n",
    "def norm(a):\n",
    "    ### a: of the type (0,1...,n-1) or permutation thereof\n",
    "    nn = len(a) \n",
    "    a = Permutation(a)\n",
    "    cycles = a.cyclic_form\n",
    "    return len(cycles) + nn - sum(len(c) for c in cycles)\n",
    "\n",
    "\n",
    "# Define scalar product of permutations\n",
    "def perm_product(a, b, q):\n",
    "    a = Permutation(a)\n",
    "    b = Permutation(b)\n",
    "    a_inv = a**-1\n",
    "    composed = (a_inv * b).array_form\n",
    "    return q**norm(composed)\n",
    "\n",
    "# Create matrix of scalar products\n",
    "def perm_matrix(q,ncopies):\n",
    "    perm = list(permutations(list(range(ncopies))))\n",
    "    return sp.Matrix([\n",
    "        [perm_product(a, b, q) for b in perm]\n",
    "        for a in perm\n",
    "    ])\n",
    "\n",
    "# Compute Weingarten function matrix\n",
    "def Wg(q,ncopies):\n",
    "    ## q is the dimension \n",
    "    perm = list(permutations(list(range(ncopies))))\n",
    "    return perm_matrix(q,ncopies).inv()\n",
    "\n",
    "## \n",
    "def norm_pure(p,ncopies):\n",
    "    norm_pure = (perm_matrix(p,ncopies) @ np.ones(factorial(ncopies), dtype=int))[1]\n",
    "    return norm_pure"
   ]
  },
  {
   "cell_type": "markdown",
   "id": "ffc9c410",
   "metadata": {},
   "source": [
    "## Notations\n",
    "\n",
    "$$d: \\text{ dot dimension}$$\n",
    "$$D: \\text{ bath dimension}$$\n",
    "$$T: \\text{ number of IM sites}$$\n",
    "\n",
    "Hence, for specified $(d,D,T)$ the IM $\\mathcal{I}$ is a mixed state on $2T$ $d-$ dimensional qudits. Viewed as a quantum comb, it is a $T-$ site comb each with a $d-$ dimensional input and output space. "
   ]
  },
  {
   "cell_type": "code",
   "execution_count": 140,
   "id": "b28a1d00",
   "metadata": {},
   "outputs": [],
   "source": [
    "### Transition matrices where boundaries of one qubit is left fixed, and 2m qubits are kept free \n",
    "### iterates upwards to add more IM sites\n",
    "def transition_matrix(d, D, ncopies, b1, b2=None):\n",
    "    ### if b2 is not specified, it is set to b1\n",
    "    if b2 is None:\n",
    "        b2 = b1\n",
    "    wg = Wg(q = d * D, ncopies = ncopies) ## add d-dim IM channel => Dd dim\n",
    "    perm = list(permutations(list(range(ncopies))))\n",
    "    permproduct = perm_matrix(q=d,ncopies=ncopies) ### for contracting out the IM d.o.f. with specified bond dimension\n",
    "    ## contract out incoming channel with b1 and outgoing channel with b2 \n",
    "    return sp.Matrix([\n",
    "        [permproduct[i, b2] * wg[i, j] * permproduct[j, b1]  for j in range(len(perm))] \n",
    "        for i in range(len(perm))\n",
    "    ]) / d**ncopies "
   ]
  },
  {
   "cell_type": "markdown",
   "id": "d62c1d36",
   "metadata": {},
   "source": [
    "## Compute $\\text{tr}(\\mathcal{I})$\n",
    "Start the bath at infinite temperature and compute the trace. The following code computes $\\text{tr}(\\mathcal{I}^{\\otimes\\text{ncopies}})$ with trivial boundaries, so it should be one no matter the value of ``ncopies``. \n",
    "\n",
    "Without any external normalization, $\\text{tr}(\\mathcal{I}_{1:t}) = d^t$. So, we normalize the transfer matrix step by $1/d^\\text{ncopies}$."
   ]
  },
  {
   "cell_type": "code",
   "execution_count": 250,
   "id": "ab75bbdf",
   "metadata": {},
   "outputs": [
    {
     "name": "stderr",
     "output_type": "stream",
     "text": [
      "100%|██████████| 20/20 [00:00<00:00, 851.20it/s]\n"
     ]
    },
    {
     "data": {
      "text/plain": [
       "True"
      ]
     },
     "execution_count": 250,
     "metadata": {},
     "output_type": "execute_result"
    }
   ],
   "source": [
    "rho_IT = []\n",
    "Nb = 20 \n",
    "D = 2 ** Nb\n",
    "d = 2. \n",
    "ncopies = 1 ## this is irrelevant here, shoukd get ans = 1 no matter what the number of copiesis\n",
    "perm = list(permutations(list(range(ncopies))))\n",
    "vec_t = np.eye(factorial(ncopies))[0] / D**ncopies \n",
    "vecs = [vec_t]\n",
    "for t in tqdm(range(1,Nb+1)):\n",
    "    T_tr = transition_matrix(d=d, D=D, ncopies=ncopies, b1=0)  \n",
    "    ## get perm product on the 2m sites to propagate the TN upwards\n",
    "    permproduct = perm_matrix(q=D, ncopies=ncopies) ## only D dim as the new IM d.o.f. will already be contracted in the TM \n",
    "    vec_t = T_tr @ permproduct @ vec_t\n",
    "    vecs.append(vec_t)\n",
    "\n",
    "## check \n",
    "np.all([np.transpose(np.eye(factorial(ncopies))[0]) @ np.array(perm_matrix(q=D,ncopies=ncopies) @ vecs[t]) == 1. for t in range(1,Nb+1)])"
   ]
  },
  {
   "cell_type": "markdown",
   "id": "71a69a6c",
   "metadata": {},
   "source": [
    "Plot $p_2(\\mathcal{I}^{T_A})$ for $A = (1,r_A)$ as a function of $r_A$."
   ]
  },
  {
   "cell_type": "code",
   "execution_count": 251,
   "id": "b0a5a708",
   "metadata": {},
   "outputs": [],
   "source": [
    "Nb = 32 ## fix bath size\n",
    "D = 2 ** Nb \n",
    "d = 2.  "
   ]
  },
  {
   "cell_type": "code",
   "execution_count": 252,
   "id": "4f84b5c4",
   "metadata": {},
   "outputs": [],
   "source": [
    "ncopies = 2\n",
    "perm = list(permutations(list(range(ncopies))))\n",
    "permproduct = perm_matrix(q=D, ncopies=ncopies)\n",
    "t_ar = np.array(list(range(1,Nb+1)) )\n",
    "p2s = np.zeros(Nb, dtype=float) \n",
    "for rA in range(1,Nb+1):\n",
    "    ## first rA sites (both in and out) partial transposed\n",
    "    vec_t = np.eye(factorial(ncopies))[0] / D**ncopies \n",
    "    bcs = [1] * rA + [0] * (Nb - rA) ## list of tm boundary conditions along temporal direction \n",
    "    for new_im_site in range(1,Nb+1):\n",
    "        T_tr = transition_matrix(d=d, D=D, ncopies=ncopies, b1=bcs[new_im_site-1])\n",
    "        vec_t = T_tr @ permproduct @ vec_t\n",
    "    val = np.transpose(np.eye(factorial(ncopies))[0]) @ np.array(permproduct) @ vec_t \n",
    "    p2s[rA - 1] = val "
   ]
  },
  {
   "cell_type": "code",
   "execution_count": 253,
   "id": "9cfd1cf1",
   "metadata": {},
   "outputs": [
    {
     "data": {
      "text/plain": [
       "[<matplotlib.lines.Line2D at 0x16c71e090>]"
      ]
     },
     "execution_count": 253,
     "metadata": {},
     "output_type": "execute_result"
    },
    {
     "data": {
      "image/png": "[encoded data removed]",
      "text/plain": [
       "<Figure size 640x480 with 1 Axes>"
      ]
     },
     "metadata": {},
     "output_type": "display_data"
    }
   ],
   "source": [
    "plt.plot(t_ar,p2s)\n",
    "plt.plot(t_ar,d**(-2 * t_ar) + 1/D**2)"
   ]
  },
  {
   "cell_type": "markdown",
   "id": "7371329c",
   "metadata": {},
   "source": [
    "$p_3(\\mathcal{I}^{T_A})$"
   ]
  },
  {
   "cell_type": "code",
   "execution_count": 254,
   "id": "3c29be03",
   "metadata": {},
   "outputs": [],
   "source": [
    "ncopies = 3\n",
    "perm = list(permutations(list(range(ncopies))))\n",
    "permproduct = perm_matrix(q=D, ncopies=ncopies)\n",
    "t_ar = np.array(list(range(1,Nb+1)) )\n",
    "p3s = np.zeros(Nb, dtype=float) \n",
    "for rA in range(1,Nb+1):\n",
    "    ## first rA sites (both in and out) partial transposed\n",
    "    vec_t = np.eye(factorial(ncopies))[0] / D**ncopies \n",
    "    bcs = [perm.index((1,2,0))] * rA + [perm.index((0,1,2))] * (Nb - rA) ## list of tm boundary conditions along temporal direction \n",
    "    for new_im_site in range(1,Nb+1):\n",
    "        T_tr = transition_matrix(d=d, D=D, ncopies=ncopies, b1=bcs[new_im_site-1])\n",
    "        vec_t = T_tr @ permproduct @ vec_t\n",
    "    val = np.transpose(np.eye(factorial(ncopies))[0]) @ np.array(permproduct) @ vec_t \n",
    "    p3s[rA - 1] = val "
   ]
  },
  {
   "cell_type": "code",
   "execution_count": 255,
   "id": "455a5d02",
   "metadata": {},
   "outputs": [
    {
     "data": {
      "text/plain": [
       "[<matplotlib.lines.Line2D at 0x16c78cd50>]"
      ]
     },
     "execution_count": 255,
     "metadata": {},
     "output_type": "execute_result"
    },
    {
     "data": {
      "image/png": "[encoded data removed]",
      "text/plain": [
       "<Figure size 640x480 with 1 Axes>"
      ]
     },
     "metadata": {},
     "output_type": "display_data"
    }
   ],
   "source": [
    "plt.plot(t_ar,p2s**2)\n",
    "plt.plot(t_ar,p3s)\n"
   ]
  },
  {
   "cell_type": "code",
   "execution_count": null,
   "id": "c4bc845c",
   "metadata": {},
   "outputs": [],
   "source": []
  }
 ],
 "metadata": {
  "kernelspec": {
   "display_name": "qt",
   "language": "python",
   "name": "python3"
  },
  "language_info": {
   "codemirror_mode": {
    "name": "ipython",
    "version": 3
   },
   "file_extension": ".py",
   "mimetype": "text/x-python",
   "name": "python",
   "nbconvert_exporter": "python",
   "pygments_lexer": "ipython3",
   "version": "3.11.8"
  }
 },
 "nbformat": 4,
 "nbformat_minor": 5
}
